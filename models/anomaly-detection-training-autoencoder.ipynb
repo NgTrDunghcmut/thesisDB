{
 "cells": [
  {
   "cell_type": "code",
   "execution_count": 11,
   "metadata": {},
   "outputs": [],
   "source": [
    "from os import listdir\n",
    "from os.path import join\n",
    "import numpy as np\n",
    "import pandas as pd\n",
    "import matplotlib.pyplot as plt\n",
    "import random\n",
    "from scipy import stats\n",
    "import tensorflow as tf\n",
    "from keras import layers, models, optimizers, regularizers\n",
    "from sklearn.metrics import confusion_matrix\n",
    "import seaborn as sn"
   ]
  },
  {
   "cell_type": "code",
   "execution_count": 12,
   "metadata": {},
   "outputs": [
    {
     "name": "stdout",
     "output_type": "stream",
     "text": [
      "Max measurements per file: 128\n",
      "Downsample factor: 2\n",
      "Window length: 64\n"
     ]
    }
   ],
   "source": [
    "\n",
    "# Print versions\n",
    "# Settings\n",
    "dataset_path = \"D:/sem232/thesis/models/data.csv\"  # Directory where raw accelerometer data is stored\n",
    "normal_op_list = ['data'] #['fan_0_low_0_weight']\n",
    "# anomaly_op_list = ['fan_0_med_0_weight', 'fan_0_high_0_weight',\n",
    "                #   'fan_0_low_1_weight', 'fan_0_med_1_weight', 'fan_0_high_1_weight']\n",
    "val_ratio = 0.2             # Percentage of samples that should be held for validation set\n",
    "test_ratio = 0.2            # Percentage of samples that should be held for test set\n",
    "raw_scale = 1               # Multiply raw values to fit into integers\n",
    "sensor_sample_rate = 200    # Hz\n",
    "desired_sample_rate = 50    # Hz\n",
    "sample_time = 0.64           # Time (sec) length of each sample\n",
    "samples_per_file = 128      # Expected number of measurements in each file (truncate to this)\n",
    "max_measurements = int(sample_time * sensor_sample_rate)\n",
    "downsample_factor = int(samples_per_file / desired_sample_rate)\n",
    "win_len = int(max_measurements / downsample_factor)\n",
    "\n",
    "keras_model_name = 'models\\\\thesis_anomality_detection'           # Will be given .h5 suffix\n",
    "sample_file_name = '..\\\\test_samples\\\\normal_anomaly_samples'  # Will be given .npz suffix\n",
    "# \\rep_dataset_name = '..\\\\test_samples\\\\normal_anomaly_test_set' # Will be given .npz suffix\n",
    "\n",
    "print('Max measurements per file:', max_measurements)\n",
    "print('Downsample factor:', downsample_factor)\n",
    "print('Window length:', win_len)"
   ]
  },
  {
   "cell_type": "code",
   "execution_count": 58,
   "metadata": {},
   "outputs": [
    {
     "name": "stdout",
     "output_type": "stream",
     "text": [
      "                                time         x         y         z\n",
      "0   2024-02-20 17:22:18.428728+00:00 -0.902212  2.745862  9.061345\n",
      "1   2024-02-20 17:22:22.515928+00:00 -0.706079  4.981778  8.316039\n",
      "2   2024-02-20 17:22:30.331024+00:00 -0.902212  5.295591  7.570734\n",
      "3   2024-02-20 17:22:34.805425+00:00 -2.314369  3.961887  7.963000\n",
      "4   2024-02-20 17:22:38.309562+00:00 -3.255808  3.020448  8.669079\n",
      "..                               ...       ...       ...       ...\n",
      "60  2024-02-28 06:37:00.075809+00:00  8.041453 -4.511059  3.177355\n",
      "61  2024-02-28 06:37:03.964797+00:00  8.080680 -4.550286  3.177355\n",
      "62  2024-02-28 06:37:07.920474+00:00  8.041453 -4.550286  3.216581\n",
      "63  2024-02-28 06:37:11.919037+00:00  8.080680 -4.550286  3.216581\n",
      "64  2024-02-28 06:37:15.923456+00:00  8.080680 -4.550286  3.138128\n",
      "\n",
      "[65 rows x 4 columns]\n",
      "[[ -0.90221178   2.74586201   9.0613451 ]\n",
      " [ -0.70607883   4.98177814   8.31603908]\n",
      " [ -0.90221178   5.29559088   7.57073402]\n",
      " [ -2.31436944   3.96188664   7.96299982]\n",
      " [ -3.25580788   3.02044821   8.66907883]\n",
      " [ -3.72652698   1.60829067  11.84643364]\n",
      " [ -4.62873888   1.84365022  10.23814297]\n",
      " [ -3.72652698   2.74586201  10.35582256]\n",
      " [ -3.02044821  -2.94199514   8.47294617]\n",
      " [ -3.02044821  -2.98122168   8.35526562]\n",
      " [  9.41438389  -3.21658134  -0.392266  ]\n",
      " [  5.96244335  -7.33537435   3.64807391]\n",
      " [ 11.84643364  -0.98066503   2.07900977]\n",
      " [  9.68897057  -5.41327095   0.2745862 ]\n",
      " [ 10.66963577  -9.41438389   0.66685224]\n",
      " [  3.88343358  -0.74530542  -1.76519704]\n",
      " [ 12.7094183   -6.15857649   1.372931  ]\n",
      " [  2.35359597  -1.76519704  -3.41271424]\n",
      " [ 10.9442215   -3.41271424   0.58839899]\n",
      " [  9.29670429  -3.60884714   0.47071922]\n",
      " [  8.19835949  -0.196133     3.64807391]\n",
      " [  9.88510323  -5.33481789   4.31492615]\n",
      " [ -0.35303941   8.19835949   2.94199514]\n",
      " [  9.64974403  -3.13812804   3.25580788]\n",
      " [  5.06023169  -8.00222683  -3.76575375]\n",
      " [  5.06023169  -8.00222683  -3.80498028]\n",
      " [  5.06023169  -8.00222683  -3.80498028]\n",
      " [  5.25636435 -10.66963577   2.70663548]\n",
      " [  2.11823654 -10.00278282 -10.59118176]\n",
      " [ -0.1176798    0.70607883  -9.68897057]\n",
      " [  5.68785715  -7.60996056  -3.60884714]\n",
      " [  5.57017708  -7.72764015  -3.68730044]\n",
      " [  5.45249748  -7.72764015  -3.72652698]\n",
      " [  6.00166988  -7.41382742  -3.76575375]\n",
      " [  7.64918709  -4.78564548   0.8237586 ]\n",
      " [  5.06023169  -8.15913296  -3.33426094]\n",
      " [  5.02100468  -8.19835949  -3.49116755]\n",
      " [  5.13868475  -8.11990642  -3.41271424]\n",
      " [  5.13868475  -8.08067989  -3.41271424]\n",
      " [  4.86409855  -8.31603908  -3.41271424]\n",
      " [  4.78564548  -8.31603908  -3.56962061]\n",
      " [  4.74641848  -8.15913296  -3.56962061]\n",
      " [  3.96188664  -8.70830536  -3.64807391]\n",
      " [  4.07956648  -8.62985229  -3.60884714]\n",
      " [  3.96188664   0.58839899  -6.70774889]\n",
      " [  5.96244335  -3.64807391  -9.96355629]\n",
      " [  3.17735457  -2.66740894  -9.49283695]\n",
      " [  3.02044821  -4.23647308  -8.47294617]\n",
      " [  4.74641848  -5.57017708  -8.74753189]\n",
      " [  3.56962061  -2.15746307  -9.25747776]\n",
      " [  8.11990642  -4.47183227   3.29503441]\n",
      " [  8.15913296  -4.39337921   3.29503441]\n",
      " [  8.08067989  -4.47183227   3.25580788]\n",
      " [  8.08067989  -4.55028582   3.17735457]\n",
      " [  8.08067989  -4.51105928   3.13812804]\n",
      " [  8.04145336  -4.55028582   3.13812804]\n",
      " [  1.80442357  -8.98289108   3.49116755]\n",
      " [  8.04145336  -4.51105928   3.17735457]\n",
      " [  8.08067989  -4.55028582   3.21658134]\n",
      " [  8.08067989  -4.51105928   3.17735457]\n",
      " [  8.04145336  -4.51105928   3.17735457]\n",
      " [  8.08067989  -4.55028582   3.17735457]\n",
      " [  8.04145336  -4.55028582   3.21658134]\n",
      " [  8.08067989  -4.55028582   3.21658134]\n",
      " [  8.08067989  -4.55028582   3.13812804]\n",
      " [ -0.90221178   2.74586201   9.0613451 ]\n",
      " [ -0.70607883   4.98177814   8.31603908]\n",
      " [ -0.90221178   5.29559088   7.57073402]\n",
      " [ -2.31436944   3.96188664   7.96299982]\n",
      " [ -3.25580788   3.02044821   8.66907883]\n",
      " [ -3.72652698   1.60829067  11.84643364]\n",
      " [ -4.62873888   1.84365022  10.23814297]\n",
      " [ -3.72652698   2.74586201  10.35582256]\n",
      " [ -3.02044821  -2.94199514   8.47294617]\n",
      " [ -3.02044821  -2.98122168   8.35526562]\n",
      " [  9.41438389  -3.21658134  -0.392266  ]\n",
      " [  5.96244335  -7.33537435   3.64807391]\n",
      " [ 11.84643364  -0.98066503   2.07900977]\n",
      " [  9.68897057  -5.41327095   0.2745862 ]\n",
      " [ 10.66963577  -9.41438389   0.66685224]\n",
      " [  3.88343358  -0.74530542  -1.76519704]\n",
      " [ 12.7094183   -6.15857649   1.372931  ]\n",
      " [  2.35359597  -1.76519704  -3.41271424]\n",
      " [ 10.9442215   -3.41271424   0.58839899]\n",
      " [  9.29670429  -3.60884714   0.47071922]\n",
      " [  8.19835949  -0.196133     3.64807391]\n",
      " [  9.88510323  -5.33481789   4.31492615]\n",
      " [ -0.35303941   8.19835949   2.94199514]\n",
      " [  9.64974403  -3.13812804   3.25580788]\n",
      " [  5.06023169  -8.00222683  -3.76575375]\n",
      " [  5.06023169  -8.00222683  -3.80498028]\n",
      " [  5.06023169  -8.00222683  -3.80498028]\n",
      " [  5.25636435 -10.66963577   2.70663548]\n",
      " [  2.11823654 -10.00278282 -10.59118176]\n",
      " [ -0.1176798    0.70607883  -9.68897057]\n",
      " [  5.68785715  -7.60996056  -3.60884714]\n",
      " [  5.57017708  -7.72764015  -3.68730044]\n",
      " [  5.45249748  -7.72764015  -3.72652698]\n",
      " [  6.00166988  -7.41382742  -3.76575375]\n",
      " [  7.64918709  -4.78564548   0.8237586 ]\n",
      " [  5.06023169  -8.15913296  -3.33426094]\n",
      " [  5.02100468  -8.19835949  -3.49116755]\n",
      " [  5.13868475  -8.11990642  -3.41271424]\n",
      " [  5.13868475  -8.08067989  -3.41271424]\n",
      " [  4.86409855  -8.31603908  -3.41271424]\n",
      " [  4.78564548  -8.31603908  -3.56962061]\n",
      " [  4.74641848  -8.15913296  -3.56962061]\n",
      " [  3.96188664  -8.70830536  -3.64807391]\n",
      " [  4.07956648  -8.62985229  -3.60884714]\n",
      " [  3.96188664   0.58839899  -6.70774889]\n",
      " [  5.96244335  -3.64807391  -9.96355629]\n",
      " [  3.17735457  -2.66740894  -9.49283695]\n",
      " [  3.02044821  -4.23647308  -8.47294617]\n",
      " [  4.74641848  -5.57017708  -8.74753189]\n",
      " [  3.56962061  -2.15746307  -9.25747776]\n",
      " [  8.11990642  -4.47183227   3.29503441]\n",
      " [  8.15913296  -4.39337921   3.29503441]\n",
      " [  8.08067989  -4.47183227   3.25580788]\n",
      " [  8.08067989  -4.55028582   3.17735457]\n",
      " [  8.08067989  -4.51105928   3.13812804]\n",
      " [  8.04145336  -4.55028582   3.13812804]\n",
      " [  1.80442357  -8.98289108   3.49116755]\n",
      " [  8.04145336  -4.51105928   3.17735457]\n",
      " [  8.08067989  -4.55028582   3.21658134]\n",
      " [  8.08067989  -4.51105928   3.17735457]\n",
      " [  8.04145336  -4.51105928   3.17735457]\n",
      " [  8.08067989  -4.55028582   3.17735457]\n",
      " [  8.04145336  -4.55028582   3.21658134]\n",
      " [  8.08067989  -4.55028582   3.21658134]\n",
      " [  8.08067989  -4.55028582   3.13812804]]\n",
      "Number of normal samples: 130\n"
     ]
    }
   ],
   "source": [
    "# Create normal and anomaly filename lists\n",
    "normal_op_filenames = pd.read_csv(dataset_path)\n",
    "print(normal_op_filenames)\n",
    "del normal_op_filenames['time']\n",
    "\n",
    "normal_op_filenames = normal_op_filenames.to_numpy()\n",
    "data = normal_op_filenames\n",
    "\n",
    "normal_op_filenames = np.concatenate((data,normal_op_filenames),axis=0)\n",
    "print(normal_op_filenames)\n",
    "# print(normal_op_filenames)\n",
    "# anomaly_op_filenames = createFilenameList(anomaly_op_list)\n",
    "print('Number of normal samples:', len(normal_op_filenames))\n",
    "# print('Number of anomaly samples:', len(anomaly_op_filenames))"
   ]
  },
  {
   "cell_type": "code",
   "execution_count": 10,
   "metadata": {},
   "outputs": [
    {
     "ename": "FileNotFoundError",
     "evalue": "[WinError 3] The system cannot find the path specified: '..\\\\datasets\\\\ceiling-fan\\\\fan_0_low_0_weight-moving'",
     "output_type": "error",
     "traceback": [
      "\u001b[1;31m---------------------------------------------------------------------------\u001b[0m",
      "\u001b[1;31mFileNotFoundError\u001b[0m                         Traceback (most recent call last)",
      "Cell \u001b[1;32mIn[10], line 2\u001b[0m\n\u001b[0;32m      1\u001b[0m \u001b[38;5;66;03m# Create normal and anomaly filename lists\u001b[39;00m\n\u001b[1;32m----> 2\u001b[0m normal_op_filenames \u001b[38;5;241m=\u001b[39m \u001b[43mcreateFilenameList\u001b[49m\u001b[43m(\u001b[49m\u001b[43mnormal_op_list\u001b[49m\u001b[43m)\u001b[49m\n\u001b[0;32m      3\u001b[0m anomaly_op_filenames \u001b[38;5;241m=\u001b[39m createFilenameList(anomaly_op_list)\n\u001b[0;32m      4\u001b[0m \u001b[38;5;28mprint\u001b[39m(\u001b[38;5;124m'\u001b[39m\u001b[38;5;124mNumber of normal samples:\u001b[39m\u001b[38;5;124m'\u001b[39m, \u001b[38;5;28mlen\u001b[39m(normal_op_filenames))\n",
      "Cell \u001b[1;32mIn[9], line 8\u001b[0m, in \u001b[0;36mcreateFilenameList\u001b[1;34m(op_list)\u001b[0m\n\u001b[0;32m      6\u001b[0m num_samples \u001b[38;5;241m=\u001b[39m \u001b[38;5;241m0\u001b[39m\n\u001b[0;32m      7\u001b[0m \u001b[38;5;28;01mfor\u001b[39;00m index, target \u001b[38;5;129;01min\u001b[39;00m \u001b[38;5;28menumerate\u001b[39m(op_list):\n\u001b[1;32m----> 8\u001b[0m     samples_in_dir \u001b[38;5;241m=\u001b[39m \u001b[43mlistdir\u001b[49m\u001b[43m(\u001b[49m\u001b[43mjoin\u001b[49m\u001b[43m(\u001b[49m\u001b[43mdataset_path\u001b[49m\u001b[43m,\u001b[49m\u001b[43m \u001b[49m\u001b[43mtarget\u001b[49m\u001b[43m)\u001b[49m\u001b[43m)\u001b[49m\n\u001b[0;32m      9\u001b[0m     samples_in_dir \u001b[38;5;241m=\u001b[39m [join(dataset_path, target, sample) \u001b[38;5;28;01mfor\u001b[39;00m sample \u001b[38;5;129;01min\u001b[39;00m samples_in_dir]\n\u001b[0;32m     10\u001b[0m     op_filenames\u001b[38;5;241m.\u001b[39mappend(samples_in_dir)\n",
      "\u001b[1;31mFileNotFoundError\u001b[0m: [WinError 3] The system cannot find the path specified: '..\\\\datasets\\\\ceiling-fan\\\\fan_0_low_0_weight-moving'"
     ]
    }
   ],
   "source": [
    "# Create normal and anomaly filename lists\n",
    "normal_op_filenames = createFilenameList(normal_op_list)\n",
    "anomaly_op_filenames = createFilenameList(anomaly_op_list)\n",
    "print('Number of normal samples:', len(normal_op_filenames))\n",
    "print('Number of anomaly samples:', len(anomaly_op_filenames))"
   ]
  },
  {
   "cell_type": "code",
   "execution_count": 59,
   "metadata": {},
   "outputs": [],
   "source": [
    "# Shuffle lists\n",
    "random.shuffle(normal_op_filenames)"
   ]
  },
  {
   "cell_type": "code",
   "execution_count": 60,
   "metadata": {},
   "outputs": [],
   "source": [
    "# Calculate validation and test set sizes\n",
    "val_set_size = int(len(normal_op_filenames) * val_ratio)\n",
    "test_set_size = int(len(normal_op_filenames) * test_ratio)"
   ]
  },
  {
   "cell_type": "code",
   "execution_count": 61,
   "metadata": {},
   "outputs": [
    {
     "name": "stdout",
     "output_type": "stream",
     "text": [
      "Number of training samples: 78\n",
      "Number of validation samples: 26\n",
      "Number of test samples: 26\n"
     ]
    }
   ],
   "source": [
    "# Break dataset apart into train, validation, and test sets\n",
    "num_samples = len(normal_op_filenames)\n",
    "filenames_val = normal_op_filenames[:val_set_size]\n",
    "filenames_test = normal_op_filenames[val_set_size:(val_set_size + test_set_size)]\n",
    "filenames_train = normal_op_filenames[(val_set_size + test_set_size):]\n",
    "\n",
    "# Print out number of samples in each set\n",
    "print('Number of training samples:', len(filenames_train))\n",
    "print('Number of validation samples:', len(filenames_val))\n",
    "print('Number of test samples:', len(filenames_test))\n",
    "\n",
    "# Check that our splits add up correctly\n",
    "assert(len(filenames_train) + len(filenames_val) + len(filenames_test)) == num_samples"
   ]
  },
  {
   "cell_type": "code",
   "execution_count": 62,
   "metadata": {},
   "outputs": [],
   "source": [
    "# Function: extract specified features (variances, MAD) from sample\n",
    "def extract_features(sample, max_measurements=0, scale=1):\n",
    "    \n",
    "    features = []\n",
    "    \n",
    "    # Truncate sample\n",
    "    if max_measurements == 0:\n",
    "        max_measurements = sample.shape[0]\n",
    "    sample = sample[0:max_measurements]\n",
    "    \n",
    "    # Scale sample\n",
    "    sample = scale * sample\n",
    "    \n",
    "        \n",
    "#     # Remove DC component\n",
    "#     sample = sample - np.mean(sample, axis=0)\n",
    "    \n",
    "#     # Truncate sample\n",
    "#     sample = sample[0:max_measurements]\n",
    "    \n",
    "#     # Variance\n",
    "#     features.append(np.var(sample, axis=0))\n",
    "    \n",
    "#     # Kurtosis\n",
    "#     features.append(stats.kurtosis(sample))\n",
    "    \n",
    "#     # Skew\n",
    "#     features.append(stats.skew(sample))\n",
    "    \n",
    "    # Median absolute deviation (MAD)\n",
    "    features.append(stats.median_abs_deviation(sample))\n",
    "    \n",
    "#     # Correlation\n",
    "#     cov = np.corrcoef(sample.T)\n",
    "#     features.append(np.array([cov[0,1], cov[0,2], cov[1,2]]))\n",
    "    \n",
    "    # Compute a windowed FFT of each axis in the sample (leave off DC)\n",
    "#     sample = sample[::downsample_factor, :]  # Downsample\n",
    "#     sample = np.floor(sample)                # Round down to int\n",
    "#     hann_window = np.hanning(sample.shape[0])\n",
    "#     for i, axis in enumerate(sample.T):\n",
    "#         fft = abs(np.fft.rfft(axis * hann_window))\n",
    "#         features.append(fft[1:])  # Leave off DC\n",
    "    \n",
    "    return np.array(features).flatten()"
   ]
  },
  {
   "cell_type": "code",
   "execution_count": 63,
   "metadata": {},
   "outputs": [
    {
     "name": "stdout",
     "output_type": "stream",
     "text": [
      "[-3.02044821 -2.94199514  8.47294617]\n",
      "(3,)\n",
      "[-3.02044821 -2.94199514  8.47294617]\n"
     ]
    },
    {
     "data": {
      "image/png": "[encoded data removed]",
      "text/plain": [
       "<Figure size 640x480 with 1 Axes>"
      ]
     },
     "metadata": {},
     "output_type": "display_data"
    }
   ],
   "source": [
    "# Test with 1 sample\n",
    "sample=filenames_test[0]\n",
    "print(sample)\n",
    "features = sample\n",
    "print(features.shape)\n",
    "print(features)\n",
    "plt.plot(features)\n",
    "plt.show()\n",
    "# stopped here"
   ]
  },
  {
   "cell_type": "code",
   "execution_count": 64,
   "metadata": {},
   "outputs": [],
   "source": [
    "# Function: loop through filenames, creating feature sets\n",
    "def create_feature_set(filenames):\n",
    "    x_out = []\n",
    "    for file in filenames:\n",
    "        sample = np.genfromtxt(file, delimiter=',')\n",
    "        features = extract_features(sample, max_measurements, raw_scale)\n",
    "        x_out.append(features)\n",
    "        \n",
    "    return np.array(x_out)"
   ]
  },
  {
   "cell_type": "code",
   "execution_count": 65,
   "metadata": {},
   "outputs": [
    {
     "name": "stdout",
     "output_type": "stream",
     "text": [
      "Extracted features from training set. Shape: (78, 3)\n",
      "Extracted features from validation set. Shape: (26, 3)\n",
      "Extracted features from test set. Shape: (26, 3)\n"
     ]
    }
   ],
   "source": [
    "# Create training, validation, and test sets\n",
    "# x_train = create_feature_set(filenames_train)\n",
    "x_train = filenames_train\n",
    "print('Extracted features from training set. Shape:', x_train.shape)\n",
    "# x_val = create_feature_set(filenames_val)\n",
    "x_val = (filenames_val)\n",
    "print('Extracted features from validation set. Shape:', x_val.shape)\n",
    "# x_test = create_feature_set(filenames_test)\n",
    "x_test = (filenames_test)\n",
    "print('Extracted features from test set. Shape:', x_test.shape)"
   ]
  },
  {
   "cell_type": "code",
   "execution_count": 87,
   "metadata": {},
   "outputs": [
    {
     "name": "stdout",
     "output_type": "stream",
     "text": [
      "(3,)\n"
     ]
    }
   ],
   "source": [
    "# Get input shape for 1 sample\n",
    "sample_shape = x_train.shape[1:]\n",
    "# print(x_train)\n",
    "print(sample_shape)"
   ]
  },
  {
   "cell_type": "code",
   "execution_count": 98,
   "metadata": {},
   "outputs": [
    {
     "name": "stdout",
     "output_type": "stream",
     "text": [
      "Model: \"sequential_4\"\n",
      "_________________________________________________________________\n",
      " Layer (type)                Output Shape              Param #   \n",
      "=================================================================\n",
      " dense_9 (Dense)             (None, 3)                 12        \n",
      "                                                                 \n",
      " dropout_4 (Dropout)         (None, 3)                 0         \n",
      "                                                                 \n",
      " dense_10 (Dense)            (None, 2)                 8         \n",
      "                                                                 \n",
      " dense_11 (Dense)            (None, 3)                 9         \n",
      "                                                                 \n",
      "=================================================================\n",
      "Total params: 29\n",
      "Trainable params: 29\n",
      "Non-trainable params: 0\n",
      "_________________________________________________________________\n"
     ]
    }
   ],
   "source": [
    "# Build model\n",
    "# Based on: https://medium.com/@curiousily/credit-card-fraud-detection-using-autoencoders-in-keras-tensorflow-for-hackers-part-vii-20e0c85301bd\n",
    "encoding_dim = 3       # Number of nodes in first layer\n",
    "model = models.Sequential([\n",
    "    layers.InputLayer(input_shape=sample_shape),\n",
    "    layers.Dense(encoding_dim, activation='relu'),\n",
    "    layers.Dropout(0.2),\n",
    "    layers.Dense(encoding_dim-1,activation='relu'),\n",
    "    layers.Dense(*sample_shape, activation='relu')\n",
    "])\n",
    "\n",
    "# Display model\n",
    "model.summary()"
   ]
  },
  {
   "cell_type": "code",
   "execution_count": 99,
   "metadata": {},
   "outputs": [],
   "source": [
    "# Add training parameters to model\n",
    "model.compile(optimizer='adam',\n",
    "             loss='mse', metrics=['accuracy'])"
   ]
  },
  {
   "cell_type": "code",
   "execution_count": 1,
   "metadata": {},
   "outputs": [
    {
     "ename": "NameError",
     "evalue": "name 'x_train' is not defined",
     "output_type": "error",
     "traceback": [
      "\u001b[1;31m---------------------------------------------------------------------------\u001b[0m",
      "\u001b[1;31mNameError\u001b[0m                                 Traceback (most recent call last)",
      "Cell \u001b[1;32mIn[1], line 2\u001b[0m\n\u001b[0;32m      1\u001b[0m \u001b[38;5;66;03m# Train model (note Y labels are same as inputs, X)\u001b[39;00m\n\u001b[1;32m----> 2\u001b[0m \u001b[38;5;28mprint\u001b[39m(\u001b[43mx_train\u001b[49m)\n\u001b[0;32m      3\u001b[0m history \u001b[38;5;241m=\u001b[39m model\u001b[38;5;241m.\u001b[39mfit(x_train,\n\u001b[0;32m      4\u001b[0m                    x_train,\n\u001b[0;32m      5\u001b[0m                    epochs\u001b[38;5;241m=\u001b[39m\u001b[38;5;241m500\u001b[39m,\n\u001b[1;32m   (...)\u001b[0m\n\u001b[0;32m      8\u001b[0m                    verbose\u001b[38;5;241m=\u001b[39m\u001b[38;5;241m1\u001b[39m\n\u001b[0;32m      9\u001b[0m                    )\n",
      "\u001b[1;31mNameError\u001b[0m: name 'x_train' is not defined"
     ]
    }
   ],
   "source": [
    "# Train model (note Y labels are same as inputs, X)\n",
    "# print(x_train)\n",
    "history = model.fit(x_train,\n",
    "                   x_train,\n",
    "                   epochs=500,\n",
    "                   batch_size=100,\n",
    "                   validation_data=(x_val, x_val),\n",
    "                   verbose=1\n",
    "                   )"
   ]
  },
  {
   "cell_type": "code",
   "execution_count": 104,
   "metadata": {},
   "outputs": [
    {
     "data": {
      "image/png": "[encoded data removed]",
      "text/plain": [
       "<Figure size 640x480 with 1 Axes>"
      ]
     },
     "metadata": {},
     "output_type": "display_data"
    }
   ],
   "source": [
    "# Plot results\n",
    "loss = history.history['loss']\n",
    "val_loss = history.history['val_loss']\n",
    "\n",
    "epochs = range(1, len(loss) + 1)\n",
    "\n",
    "plt.figure()\n",
    "\n",
    "plt.plot(epochs, loss, 'bo', label='Training loss')\n",
    "plt.plot(epochs, val_loss, 'b', label='Validation loss')\n",
    "plt.title('Training and validation loss')\n",
    "plt.legend()\n",
    "\n",
    "plt.show()"
   ]
  },
  {
   "cell_type": "code",
   "execution_count": 105,
   "metadata": {},
   "outputs": [
    {
     "name": "stdout",
     "output_type": "stream",
     "text": [
      "WARNING:tensorflow:5 out of the last 8 calls to <function Model.make_predict_function.<locals>.predict_function at 0x000002615DA4ADC0> triggered tf.function retracing. Tracing is expensive and the excessive number of tracings could be due to (1) creating @tf.function repeatedly in a loop, (2) passing tensors with different shapes, (3) passing Python objects instead of tensors. For (1), please define your @tf.function outside of the loop. For (2), @tf.function has reduce_retracing=True option that can avoid unnecessary retracing. For (3), please refer to https://www.tensorflow.org/guide/function#controlling_retracing and https://www.tensorflow.org/api_docs/python/tf/function for  more details.\n",
      "1/1 [==============================] - 0s 42ms/step\n",
      "Average MSE for normal validation set: 33.63233642152362\n",
      "Standard deviation of MSE for normal validation set: 13.178737340312516\n",
      "Recommended threshold (3x std dev + avg): 73.16854844246117\n"
     ]
    },
    {
     "data": {
      "text/plain": [
       "(array([1., 0., 0., 0., 1., 4., 4., 5., 1., 1., 0., 6., 0., 0., 1., 0., 0.,\n",
       "        0., 0., 2.]),\n",
       " array([ 6.7673177 ,  9.81089253, 12.85446737, 15.89804221, 18.94161705,\n",
       "        21.98519189, 25.02876672, 28.07234156, 31.1159164 , 34.15949124,\n",
       "        37.20306608, 40.24664091, 43.29021575, 46.33379059, 49.37736543,\n",
       "        52.42094026, 55.4645151 , 58.50808994, 61.55166478, 64.59523962,\n",
       "        67.63881445]),\n",
       " <BarContainer object of 20 artists>)"
      ]
     },
     "execution_count": 105,
     "metadata": {},
     "output_type": "execute_result"
    },
    {
     "data": {
      "image/png": "[encoded data removed]",
      "text/plain": [
       "<Figure size 640x480 with 1 Axes>"
      ]
     },
     "metadata": {},
     "output_type": "display_data"
    }
   ],
   "source": [
    "# Calculate MSE from validation set\n",
    "predictions = model.predict(x_val)\n",
    "normal_mse = np.mean(np.power(x_val - predictions, 2), axis=1)\n",
    "print('Average MSE for normal validation set:', np.average(normal_mse))\n",
    "print('Standard deviation of MSE for normal validation set:', np.std(normal_mse))\n",
    "print('Recommended threshold (3x std dev + avg):', (3*np.std(normal_mse)) + np.average(normal_mse))\n",
    "fig, ax = plt.subplots(1,1)\n",
    "ax.hist(normal_mse, bins=20, label='normal', color='red', alpha=0.7)"
   ]
  },
  {
   "cell_type": "code",
   "execution_count": 106,
   "metadata": {},
   "outputs": [
    {
     "ename": "NameError",
     "evalue": "name 'anomaly_op_filenames' is not defined",
     "output_type": "error",
     "traceback": [
      "\u001b[1;31m---------------------------------------------------------------------------\u001b[0m",
      "\u001b[1;31mNameError\u001b[0m                                 Traceback (most recent call last)",
      "Cell \u001b[1;32mIn[106], line 2\u001b[0m\n\u001b[0;32m      1\u001b[0m \u001b[38;5;66;03m# Extract features from anomaly test set (truncate to length of X test set)\u001b[39;00m\n\u001b[1;32m----> 2\u001b[0m anomaly_ops_trunc \u001b[38;5;241m=\u001b[39m \u001b[43manomaly_op_filenames\u001b[49m[\u001b[38;5;241m0\u001b[39m:\u001b[38;5;28mlen\u001b[39m(normal_mse)]\n\u001b[0;32m      3\u001b[0m anomaly_features \u001b[38;5;241m=\u001b[39m create_feature_set(anomaly_ops_trunc)\n\u001b[0;32m      4\u001b[0m \u001b[38;5;28mprint\u001b[39m(\u001b[38;5;124m'\u001b[39m\u001b[38;5;124mExtracted features from anomaly set. Shape:\u001b[39m\u001b[38;5;124m'\u001b[39m, anomaly_features\u001b[38;5;241m.\u001b[39mshape)\n",
      "\u001b[1;31mNameError\u001b[0m: name 'anomaly_op_filenames' is not defined"
     ]
    }
   ],
   "source": [
    "# Extract features from anomaly test set (truncate to length of X test set)\n",
    "anomaly_ops_trunc = anomaly_op_filenames[0:len(normal_mse)]\n",
    "anomaly_features = create_feature_set(anomaly_ops_trunc)\n",
    "print('Extracted features from anomaly set. Shape:', anomaly_features.shape)"
   ]
  },
  {
   "cell_type": "code",
   "execution_count": 107,
   "metadata": {},
   "outputs": [
    {
     "name": "stdout",
     "output_type": "stream",
     "text": [
      "1/1 [==============================] - 0s 18ms/step\n",
      "Average MSE for for anomaly test set: 34.03573575426106\n"
     ]
    }
   ],
   "source": [
    "# Calculate MSE from anomaly set\n",
    "predictions = model.predict(x_test)\n",
    "anomaly_mse = np.mean(np.power(x_test - predictions, 2), axis=1)\n",
    "print('Average MSE for for anomaly test set:', np.average(anomaly_mse))"
   ]
  },
  {
   "cell_type": "code",
   "execution_count": 108,
   "metadata": {},
   "outputs": [
    {
     "data": {
      "text/plain": [
       "(array([1., 1., 0., 0., 0., 2., 1., 4., 2., 8., 2., 1., 0., 1., 0., 0., 0.,\n",
       "        0., 0., 3.]),\n",
       " array([ 3.35837277,  6.57239485,  9.78641693, 13.00043902, 16.2144611 ,\n",
       "        19.42848319, 22.64250527, 25.85652736, 29.07054944, 32.28457153,\n",
       "        35.49859361, 38.71261569, 41.92663778, 45.14065986, 48.35468195,\n",
       "        51.56870403, 54.78272612, 57.9967482 , 61.21077028, 64.42479237,\n",
       "        67.63881445]),\n",
       " <BarContainer object of 20 artists>)"
      ]
     },
     "execution_count": 108,
     "metadata": {},
     "output_type": "execute_result"
    },
    {
     "data": {
      "image/png": "[encoded data removed]",
      "text/plain": [
       "<Figure size 640x480 with 1 Axes>"
      ]
     },
     "metadata": {},
     "output_type": "display_data"
    }
   ],
   "source": [
    "# Plot histograms of normal validation vs. anomaly sets (MSEs)\n",
    "fig, ax = plt.subplots(1,1)\n",
    "plt.xscale(\"log\")\n",
    "ax.hist(normal_mse, bins=20, label='normal', color='blue', alpha=0.7)\n",
    "ax.hist(anomaly_mse, bins=20, label='anomaly', color='red', alpha=0.7)"
   ]
  },
  {
   "cell_type": "code",
   "execution_count": 109,
   "metadata": {},
   "outputs": [
    {
     "name": "stdout",
     "output_type": "stream",
     "text": [
      "1/1 [==============================] - 0s 17ms/step\n",
      "Average MSE for normal test set: 34.03573575426106\n"
     ]
    }
   ],
   "source": [
    "# Look at separation using test set\n",
    "predictions = model.predict(x_test)\n",
    "normal_mse = np.mean(np.power(x_test - predictions, 2), axis=1)\n",
    "print('Average MSE for normal test set:', np.average(normal_mse))"
   ]
  },
  {
   "cell_type": "code",
   "execution_count": 110,
   "metadata": {},
   "outputs": [
    {
     "data": {
      "text/plain": [
       "(array([1., 1., 0., 0., 0., 2., 1., 4., 2., 8., 2., 1., 0., 1., 0., 0., 0.,\n",
       "        0., 0., 3.]),\n",
       " array([ 3.35837277,  6.57239485,  9.78641693, 13.00043902, 16.2144611 ,\n",
       "        19.42848319, 22.64250527, 25.85652736, 29.07054944, 32.28457153,\n",
       "        35.49859361, 38.71261569, 41.92663778, 45.14065986, 48.35468195,\n",
       "        51.56870403, 54.78272612, 57.9967482 , 61.21077028, 64.42479237,\n",
       "        67.63881445]),\n",
       " <BarContainer object of 20 artists>)"
      ]
     },
     "execution_count": 110,
     "metadata": {},
     "output_type": "execute_result"
    },
    {
     "data": {
      "image/png": "[encoded data removed]",
      "text/plain": [
       "<Figure size 640x480 with 1 Axes>"
      ]
     },
     "metadata": {},
     "output_type": "display_data"
    }
   ],
   "source": [
    "# Plot histograms of normal test vs. anomaly sets (MSEs)\n",
    "fig, ax = plt.subplots(1,1)\n",
    "plt.xscale(\"log\")\n",
    "ax.hist(normal_mse, bins=20, label='normal', color='blue', alpha=0.7)\n",
    "ax.hist(anomaly_mse, bins=20, label='anomaly', color='red', alpha=0.7)"
   ]
  },
  {
   "cell_type": "code",
   "execution_count": null,
   "metadata": {},
   "outputs": [],
   "source": [
    "# If we're happy with the performance, save the model\n",
    "model.save(keras_model_name + '.h5')"
   ]
  },
  {
   "cell_type": "code",
   "execution_count": 111,
   "metadata": {},
   "outputs": [
    {
     "ename": "AttributeError",
     "evalue": "'numpy.float64' object has no attribute 'split'",
     "output_type": "error",
     "traceback": [
      "\u001b[1;31m---------------------------------------------------------------------------\u001b[0m",
      "\u001b[1;31mAttributeError\u001b[0m                            Traceback (most recent call last)",
      "Cell \u001b[1;32mIn[111], line 2\u001b[0m\n\u001b[0;32m      1\u001b[0m \u001b[38;5;66;03m# Save a normal and anomaly sample for trying out on the MCU\u001b[39;00m\n\u001b[1;32m----> 2\u001b[0m normal_sample \u001b[38;5;241m=\u001b[39m \u001b[43mnp\u001b[49m\u001b[38;5;241;43m.\u001b[39;49m\u001b[43mgenfromtxt\u001b[49m\u001b[43m(\u001b[49m\u001b[43mfilenames_test\u001b[49m\u001b[43m[\u001b[49m\u001b[38;5;241;43m0\u001b[39;49m\u001b[43m]\u001b[49m\u001b[43m,\u001b[49m\u001b[43m \u001b[49m\u001b[43mdelimiter\u001b[49m\u001b[38;5;241;43m=\u001b[39;49m\u001b[38;5;124;43m'\u001b[39;49m\u001b[38;5;124;43m,\u001b[39;49m\u001b[38;5;124;43m'\u001b[39;49m\u001b[43m)\u001b[49m\n\u001b[0;32m      3\u001b[0m anomaly_sample \u001b[38;5;241m=\u001b[39m np\u001b[38;5;241m.\u001b[39mgenfromtxt(anomaly_op_filenames[\u001b[38;5;241m0\u001b[39m], delimiter\u001b[38;5;241m=\u001b[39m\u001b[38;5;124m'\u001b[39m\u001b[38;5;124m,\u001b[39m\u001b[38;5;124m'\u001b[39m)\n\u001b[0;32m      4\u001b[0m np\u001b[38;5;241m.\u001b[39msavez(sample_file_name \u001b[38;5;241m+\u001b[39m \u001b[38;5;124m'\u001b[39m\u001b[38;5;124m.npz\u001b[39m\u001b[38;5;124m'\u001b[39m, normal_sample\u001b[38;5;241m=\u001b[39mnormal_sample, anomaly_sample\u001b[38;5;241m=\u001b[39manomaly_sample)\n",
      "File \u001b[1;32md:\\anaconda\\envs\\py39\\lib\\site-packages\\numpy\\lib\\npyio.py:2011\u001b[0m, in \u001b[0;36mgenfromtxt\u001b[1;34m(fname, dtype, comments, delimiter, skip_header, skip_footer, converters, missing_values, filling_values, usecols, names, excludelist, deletechars, replace_space, autostrip, case_sensitive, defaultfmt, unpack, usemask, loose, invalid_raise, max_rows, encoding, ndmin, like)\u001b[0m\n\u001b[0;32m   2008\u001b[0m             \u001b[38;5;28;01mif\u001b[39;00m comments \u001b[38;5;129;01min\u001b[39;00m first_line:\n\u001b[0;32m   2009\u001b[0m                 first_line \u001b[38;5;241m=\u001b[39m (\n\u001b[0;32m   2010\u001b[0m                     \u001b[38;5;124m'\u001b[39m\u001b[38;5;124m'\u001b[39m\u001b[38;5;241m.\u001b[39mjoin(first_line\u001b[38;5;241m.\u001b[39msplit(comments)[\u001b[38;5;241m1\u001b[39m:]))\n\u001b[1;32m-> 2011\u001b[0m         first_values \u001b[38;5;241m=\u001b[39m \u001b[43msplit_line\u001b[49m\u001b[43m(\u001b[49m\u001b[43mfirst_line\u001b[49m\u001b[43m)\u001b[49m\n\u001b[0;32m   2012\u001b[0m \u001b[38;5;28;01mexcept\u001b[39;00m \u001b[38;5;167;01mStopIteration\u001b[39;00m:\n\u001b[0;32m   2013\u001b[0m     \u001b[38;5;66;03m# return an empty array if the datafile is empty\u001b[39;00m\n\u001b[0;32m   2014\u001b[0m     first_line \u001b[38;5;241m=\u001b[39m \u001b[38;5;124m'\u001b[39m\u001b[38;5;124m'\u001b[39m\n",
      "File \u001b[1;32md:\\anaconda\\envs\\py39\\lib\\site-packages\\numpy\\lib\\_iotools.py:226\u001b[0m, in \u001b[0;36mLineSplitter.__call__\u001b[1;34m(self, line)\u001b[0m\n\u001b[0;32m    225\u001b[0m \u001b[38;5;28;01mdef\u001b[39;00m \u001b[38;5;21m__call__\u001b[39m(\u001b[38;5;28mself\u001b[39m, line):\n\u001b[1;32m--> 226\u001b[0m     \u001b[38;5;28;01mreturn\u001b[39;00m \u001b[38;5;28;43mself\u001b[39;49m\u001b[38;5;241;43m.\u001b[39;49m\u001b[43m_handyman\u001b[49m\u001b[43m(\u001b[49m\u001b[43m_decode_line\u001b[49m\u001b[43m(\u001b[49m\u001b[43mline\u001b[49m\u001b[43m,\u001b[49m\u001b[43m \u001b[49m\u001b[38;5;28;43mself\u001b[39;49m\u001b[38;5;241;43m.\u001b[39;49m\u001b[43mencoding\u001b[49m\u001b[43m)\u001b[49m\u001b[43m)\u001b[49m\n",
      "File \u001b[1;32md:\\anaconda\\envs\\py39\\lib\\site-packages\\numpy\\lib\\_iotools.py:201\u001b[0m, in \u001b[0;36mLineSplitter._delimited_splitter\u001b[1;34m(self, line)\u001b[0m\n\u001b[0;32m    199\u001b[0m \u001b[38;5;250m\u001b[39m\u001b[38;5;124;03m\"\"\"Chop off comments, strip, and split at delimiter. \"\"\"\u001b[39;00m\n\u001b[0;32m    200\u001b[0m \u001b[38;5;28;01mif\u001b[39;00m \u001b[38;5;28mself\u001b[39m\u001b[38;5;241m.\u001b[39mcomments \u001b[38;5;129;01mis\u001b[39;00m \u001b[38;5;129;01mnot\u001b[39;00m \u001b[38;5;28;01mNone\u001b[39;00m:\n\u001b[1;32m--> 201\u001b[0m     line \u001b[38;5;241m=\u001b[39m \u001b[43mline\u001b[49m\u001b[38;5;241;43m.\u001b[39;49m\u001b[43msplit\u001b[49m(\u001b[38;5;28mself\u001b[39m\u001b[38;5;241m.\u001b[39mcomments)[\u001b[38;5;241m0\u001b[39m]\n\u001b[0;32m    202\u001b[0m line \u001b[38;5;241m=\u001b[39m line\u001b[38;5;241m.\u001b[39mstrip(\u001b[38;5;124m\"\u001b[39m\u001b[38;5;124m \u001b[39m\u001b[38;5;130;01m\\r\u001b[39;00m\u001b[38;5;130;01m\\n\u001b[39;00m\u001b[38;5;124m\"\u001b[39m)\n\u001b[0;32m    203\u001b[0m \u001b[38;5;28;01mif\u001b[39;00m \u001b[38;5;129;01mnot\u001b[39;00m line:\n",
      "\u001b[1;31mAttributeError\u001b[0m: 'numpy.float64' object has no attribute 'split'"
     ]
    }
   ],
   "source": [
    "# Save a normal and anomaly sample for trying out on the MCU\n",
    "normal_sample = np.genfromtxt(filenames_test[0], delimiter=',')\n",
    "anomaly_sample = np.genfromtxt(anomaly_op_filenames[0], delimiter=',')\n",
    "np.savez(sample_file_name + '.npz', normal_sample=normal_sample, anomaly_sample=anomaly_sample)"
   ]
  },
  {
   "cell_type": "code",
   "execution_count": null,
   "metadata": {},
   "outputs": [],
   "source": [
    "# Save the test dataset for use as a representative dataset\n",
    "np.savez(rep_dataset_name + '.npz', x_test=x_test)"
   ]
  },
  {
   "cell_type": "code",
   "execution_count": 112,
   "metadata": {},
   "outputs": [],
   "source": [
    "# Create a classifier (0 = normal, 1 = anomaly)\n",
    "def detect_anomaly(x, model, threshold=0):\n",
    "    input_tensor = x_test[0].reshape(1, -1)\n",
    "    pred = model.predict(input_tensor)\n",
    "    mse = np.mean(np.power(x - pred, 2), axis=1)\n",
    "    if mse > threshold:\n",
    "        return 1\n",
    "    else:\n",
    "        return 0"
   ]
  },
  {
   "cell_type": "code",
   "execution_count": 114,
   "metadata": {},
   "outputs": [],
   "source": [
    "# Choose a threshold\n",
    "# anomaly_threshold = 3e-05\n",
    "# Choose a threshold\n",
    "anomaly_threshold = 73"
   ]
  },
  {
   "cell_type": "code",
   "execution_count": 115,
   "metadata": {},
   "outputs": [
    {
     "name": "stdout",
     "output_type": "stream",
     "text": [
      "1/1 [==============================] - 0s 19ms/step\n",
      "1/1 [==============================] - 0s 21ms/step\n",
      "1/1 [==============================] - 0s 23ms/step\n",
      "1/1 [==============================] - 0s 22ms/step\n",
      "1/1 [==============================] - 0s 23ms/step\n",
      "1/1 [==============================] - 0s 32ms/step\n",
      "1/1 [==============================] - 0s 21ms/step\n",
      "1/1 [==============================] - 0s 22ms/step\n",
      "1/1 [==============================] - 0s 20ms/step\n",
      "1/1 [==============================] - 0s 23ms/step\n",
      "1/1 [==============================] - 0s 22ms/step\n",
      "1/1 [==============================] - 0s 20ms/step\n",
      "1/1 [==============================] - 0s 24ms/step\n",
      "1/1 [==============================] - 0s 22ms/step\n",
      "1/1 [==============================] - 0s 22ms/step\n",
      "1/1 [==============================] - 0s 21ms/step\n",
      "1/1 [==============================] - 0s 21ms/step\n",
      "1/1 [==============================] - 0s 21ms/step\n",
      "1/1 [==============================] - 0s 21ms/step\n",
      "1/1 [==============================] - 0s 22ms/step\n",
      "1/1 [==============================] - 0s 22ms/step\n",
      "1/1 [==============================] - 0s 21ms/step\n",
      "1/1 [==============================] - 0s 23ms/step\n",
      "1/1 [==============================] - 0s 21ms/step\n",
      "1/1 [==============================] - 0s 20ms/step\n",
      "1/1 [==============================] - 0s 23ms/step\n",
      "[0, 0, 0, 0, 0, 0, 0, 0, 0, 0, 0, 0, 0, 0, 0, 0, 0, 0, 0, 0, 0, 0, 0, 0, 0, 0]\n"
     ]
    }
   ],
   "source": [
    "# Perform classification on test set\n",
    "pred_test = [detect_anomaly(x, model, anomaly_threshold) for x in x_test]\n",
    "print(pred_test)"
   ]
  },
  {
   "cell_type": "code",
   "execution_count": 116,
   "metadata": {},
   "outputs": [
    {
     "ename": "NameError",
     "evalue": "name 'anomaly_features' is not defined",
     "output_type": "error",
     "traceback": [
      "\u001b[1;31m---------------------------------------------------------------------------\u001b[0m",
      "\u001b[1;31mNameError\u001b[0m                                 Traceback (most recent call last)",
      "Cell \u001b[1;32mIn[116], line 2\u001b[0m\n\u001b[0;32m      1\u001b[0m \u001b[38;5;66;03m# Perform classification on anomaly set\u001b[39;00m\n\u001b[1;32m----> 2\u001b[0m pred_anomaly \u001b[38;5;241m=\u001b[39m [detect_anomaly(x, model, anomaly_threshold) \u001b[38;5;28;01mfor\u001b[39;00m x \u001b[38;5;129;01min\u001b[39;00m \u001b[43manomaly_features\u001b[49m]\n\u001b[0;32m      3\u001b[0m \u001b[38;5;28mprint\u001b[39m(pred_anomaly)\n",
      "\u001b[1;31mNameError\u001b[0m: name 'anomaly_features' is not defined"
     ]
    }
   ],
   "source": [
    "# Perform classification on anomaly set\n",
    "pred_anomaly = [detect_anomaly(x, model, anomaly_threshold) for x in anomaly_features]\n",
    "print(pred_anomaly)"
   ]
  },
  {
   "cell_type": "code",
   "execution_count": 118,
   "metadata": {},
   "outputs": [
    {
     "ename": "NameError",
     "evalue": "name 'pred_anomaly' is not defined",
     "output_type": "error",
     "traceback": [
      "\u001b[1;31m---------------------------------------------------------------------------\u001b[0m",
      "\u001b[1;31mNameError\u001b[0m                                 Traceback (most recent call last)",
      "Cell \u001b[1;32mIn[118], line 2\u001b[0m\n\u001b[0;32m      1\u001b[0m \u001b[38;5;66;03m# Combine predictions into one long list and create a label list\u001b[39;00m\n\u001b[1;32m----> 2\u001b[0m pred \u001b[38;5;241m=\u001b[39m np\u001b[38;5;241m.\u001b[39marray(pred_test \u001b[38;5;241m+\u001b[39m \u001b[43mpred_anomaly\u001b[49m)\n\u001b[0;32m      3\u001b[0m labels \u001b[38;5;241m=\u001b[39m ([\u001b[38;5;241m0\u001b[39m] \u001b[38;5;241m*\u001b[39m \u001b[38;5;28mlen\u001b[39m(pred_test)) \u001b[38;5;241m+\u001b[39m ([\u001b[38;5;241m1\u001b[39m] \u001b[38;5;241m*\u001b[39m \u001b[38;5;28mlen\u001b[39m(pred_anomaly))\n",
      "\u001b[1;31mNameError\u001b[0m: name 'pred_anomaly' is not defined"
     ]
    }
   ],
   "source": [
    "# Combine predictions into one long list and create a label list\n",
    "pred = np.array(pred_test + pred_anomaly)\n",
    "labels = ([0] * len(pred_test)) + ([1] * len(pred_anomaly))"
   ]
  },
  {
   "cell_type": "code",
   "execution_count": 117,
   "metadata": {},
   "outputs": [
    {
     "ename": "NameError",
     "evalue": "name 'labels' is not defined",
     "output_type": "error",
     "traceback": [
      "\u001b[1;31m---------------------------------------------------------------------------\u001b[0m",
      "\u001b[1;31mNameError\u001b[0m                                 Traceback (most recent call last)",
      "Cell \u001b[1;32mIn[117], line 2\u001b[0m\n\u001b[0;32m      1\u001b[0m \u001b[38;5;66;03m# Create confusion matrix\u001b[39;00m\n\u001b[1;32m----> 2\u001b[0m cm \u001b[38;5;241m=\u001b[39m confusion_matrix(\u001b[43mlabels\u001b[49m, pred)\n\u001b[0;32m      3\u001b[0m \u001b[38;5;28mprint\u001b[39m(cm)\n",
      "\u001b[1;31mNameError\u001b[0m: name 'labels' is not defined"
     ]
    }
   ],
   "source": [
    "# Create confusion matrix\n",
    "cm = confusion_matrix(labels, pred)\n",
    "print(cm)"
   ]
  },
  {
   "cell_type": "code",
   "execution_count": 119,
   "metadata": {},
   "outputs": [
    {
     "ename": "NameError",
     "evalue": "name 'cm' is not defined",
     "output_type": "error",
     "traceback": [
      "\u001b[1;31m---------------------------------------------------------------------------\u001b[0m",
      "\u001b[1;31mNameError\u001b[0m                                 Traceback (most recent call last)",
      "Cell \u001b[1;32mIn[119], line 2\u001b[0m\n\u001b[0;32m      1\u001b[0m \u001b[38;5;66;03m# Make confusion matrix pretty\u001b[39;00m\n\u001b[1;32m----> 2\u001b[0m df_cm \u001b[38;5;241m=\u001b[39m pd\u001b[38;5;241m.\u001b[39mDataFrame(\u001b[43mcm\u001b[49m, index\u001b[38;5;241m=\u001b[39m[\u001b[38;5;124m'\u001b[39m\u001b[38;5;124mnormal\u001b[39m\u001b[38;5;124m'\u001b[39m, \u001b[38;5;124m'\u001b[39m\u001b[38;5;124manomaly\u001b[39m\u001b[38;5;124m'\u001b[39m], columns\u001b[38;5;241m=\u001b[39m[\u001b[38;5;124m'\u001b[39m\u001b[38;5;124mnormal\u001b[39m\u001b[38;5;124m'\u001b[39m, \u001b[38;5;124m'\u001b[39m\u001b[38;5;124manomaly\u001b[39m\u001b[38;5;124m'\u001b[39m])\n\u001b[0;32m      3\u001b[0m plt\u001b[38;5;241m.\u001b[39mfigure()\n\u001b[0;32m      4\u001b[0m sn\u001b[38;5;241m.\u001b[39mheatmap(df_cm, annot\u001b[38;5;241m=\u001b[39m\u001b[38;5;28;01mTrue\u001b[39;00m)\n",
      "\u001b[1;31mNameError\u001b[0m: name 'cm' is not defined"
     ]
    }
   ],
   "source": [
    "# Make confusion matrix pretty\n",
    "df_cm = pd.DataFrame(cm, index=['normal', 'anomaly'], columns=['normal', 'anomaly'])\n",
    "plt.figure()\n",
    "sn.heatmap(df_cm, annot=True)\n",
    "plt.title('Confusion Matrix')\n",
    "plt.xlabel('Prediction')\n",
    "plt.ylabel('Actual')"
   ]
  },
  {
   "cell_type": "code",
   "execution_count": null,
   "metadata": {},
   "outputs": [],
   "source": []
  }
 ],
 "metadata": {
  "kernelspec": {
   "display_name": "Python (py39)",
   "language": "python",
   "name": "py39"
  },
  "language_info": {
   "codemirror_mode": {
    "name": "ipython",
    "version": 3
   },
   "file_extension": ".py",
   "mimetype": "text/x-python",
   "name": "python",
   "nbconvert_exporter": "python",
   "pygments_lexer": "ipython3",
   "version": "3.8.18"
  }
 },
 "nbformat": 4,
 "nbformat_minor": 4
}
